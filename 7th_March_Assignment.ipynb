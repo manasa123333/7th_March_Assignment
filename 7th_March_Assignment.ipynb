{
 "cells": [
  {
   "cell_type": "markdown",
   "id": "bd714f79-87d1-46c5-aed3-2dfe18a56b44",
   "metadata": {},
   "source": [
    "Q1. What are the three measures of central tendency?                                                             \n",
    "=> The three measures of central tendency are mean,median and mode."
   ]
  },
  {
   "cell_type": "markdown",
   "id": "407be3e9-751c-42d0-9606-47e32af14d0f",
   "metadata": {},
   "source": [
    "Q2. What is the difference between the mean, median, and mode? How are they used to measure the\n",
    "central tendency of a dataset?"
   ]
  },
  {
   "cell_type": "markdown",
   "id": "17162b32-0d96-4d75-8c8f-905a9e10a4c7",
   "metadata": {},
   "source": [
    "=> The mean provides an overall average of the data, while the median gives a measure of the central value that is less influenced by outliers. The mode identifies the most common value(s) in the dataset.                                                     \n",
    "\n",
    "Mean                                                              \n",
    "The mean is the arithmetic average, and it is probably the measure of central tendency that you are most familiar. Calculating the mean is very simple. You just add up all of the values and divide by the number of observations in your dataset.\n",
    "\n",
    "Median                                                                                                 \n",
    "The median is the middle value. It is the value that splits the dataset in half, making it a natural measure of central tendency.                                                                               \n",
    "\n",
    "To find the median, order your data from smallest to largest, and then find the data point that has an equal number of values above it and below it.                                                                              \n",
    "\n",
    "Mode                                                                                         \n",
    "The mode is the value that occurs the most frequently in your data set, making it a different type of measure of central tendency than the mean or median.                                                                                    \n",
    "\n",
    "To find the mode, sort the values in your dataset by numeric values or by categories. Then identify the value that occurs most often.                                                                                       "
   ]
  },
  {
   "cell_type": "markdown",
   "id": "66bfc734-5599-4fe7-a99d-b2a003483238",
   "metadata": {},
   "source": [
    "Q3. Measure the three measures of central tendency for the given height data:\n",
    "[178,177,176,177,178.2,178,175,179,180,175,178.9,176.2,177,172.5,178,176.5]"
   ]
  },
  {
   "cell_type": "code",
   "execution_count": 1,
   "id": "be5fbc9d-2f21-4725-8aee-e3ae4ee9e626",
   "metadata": {},
   "outputs": [],
   "source": [
    "l = [178,177,176,177,178.2,178,175,179,180,175,178.9,176.2,177,172.5,178,176.5]"
   ]
  },
  {
   "cell_type": "code",
   "execution_count": 2,
   "id": "989cd1f8-3b48-4ab1-a276-88dc9bee33b2",
   "metadata": {},
   "outputs": [],
   "source": [
    "import statistics"
   ]
  },
  {
   "cell_type": "code",
   "execution_count": 3,
   "id": "f0df1300-be1a-4eee-897f-65d84b44ffea",
   "metadata": {},
   "outputs": [
    {
     "name": "stdout",
     "output_type": "stream",
     "text": [
      "The mean of given list is  177.01875\n"
     ]
    }
   ],
   "source": [
    "x = statistics.mean(l)\n",
    "print(\"The mean of given list is \",x)"
   ]
  },
  {
   "cell_type": "code",
   "execution_count": 4,
   "id": "73e12e28-ffbf-4851-b349-2d3cc11ef29c",
   "metadata": {},
   "outputs": [
    {
     "name": "stdout",
     "output_type": "stream",
     "text": [
      "The median of given list is  177.0\n"
     ]
    }
   ],
   "source": [
    "y = statistics.median(l)\n",
    "print(\"The median of given list is \",y)"
   ]
  },
  {
   "cell_type": "code",
   "execution_count": 5,
   "id": "c0baf03d-8a81-4848-adb8-ea87332b2623",
   "metadata": {},
   "outputs": [
    {
     "name": "stdout",
     "output_type": "stream",
     "text": [
      "The mode of given list is  178\n"
     ]
    }
   ],
   "source": [
    "z = statistics.mode(l)\n",
    "print(\"The mode of given list is \",z)"
   ]
  },
  {
   "cell_type": "markdown",
   "id": "78ac90d0-4459-482b-a2b5-c686de0b0844",
   "metadata": {},
   "source": [
    "Q4. Find the standard deviation for the given data:\n",
    "[178,177,176,177,178.2,178,175,179,180,175,178.9,176.2,177,172.5,178,176.5]"
   ]
  },
  {
   "cell_type": "code",
   "execution_count": 6,
   "id": "ce4e0135-de21-4cd1-916f-3d4865382b23",
   "metadata": {},
   "outputs": [],
   "source": [
    "l1 = [178,177,176,177,178.2,178,175,179,180,175,178.9,176.2,177,172.5,178,176.5]"
   ]
  },
  {
   "cell_type": "code",
   "execution_count": 8,
   "id": "e142e9b7-0a01-4724-aab6-ee68d341740e",
   "metadata": {},
   "outputs": [
    {
     "name": "stdout",
     "output_type": "stream",
     "text": [
      "The standard deviation for given data is  1.8472389305844188\n"
     ]
    }
   ],
   "source": [
    "a = statistics.stdev(l1)\n",
    "print(\"The standard deviation for given data is \",a)"
   ]
  },
  {
   "cell_type": "markdown",
   "id": "a722f55d-d73a-4e23-9441-20c0677f4faf",
   "metadata": {},
   "source": [
    "Q5. How are measures of dispersion such as range, variance, and standard deviation used to describe\n",
    "the spread of a dataset? Provide an example."
   ]
  },
  {
   "cell_type": "markdown",
   "id": "3c6bb9df-e115-40f2-b6bc-ff0c96e37df6",
   "metadata": {},
   "source": [
    "1. Range                                                                                  \n",
    "The range of the data is given as the difference between the maximum and the minimum values of the observations in the data. For example, let’s say we have data on the number of customers walking in the store in a week.                          \n",
    "consider following data:                                               \n",
    "10, 14, 8, 10, 15, 4, 7                                                                \n",
    "\n",
    "\n",
    "Minimum value in data = 7                                             \n",
    "\n",
    "Maximum Value in the data = 15                                                                 \n",
    "\n",
    "Range = Maximum Value in the data – Minimum value in the data                                                   \n",
    "\n",
    "           = 15 – 7                                             \n",
    "\n",
    "           = 8                                                         \n",
    "\n",
    "Now we can say that the range of the data is 8. This gives us an idea about the spread of the data but doesn’t tell how the data is distributed.                                                                           \n",
    "\n",
    "2. Variance                                                          \n",
    "The variance of the data is given by measuring the distance of the observed values from the mean of the distribution. Here we are not concerned with the sign of the distance of the point, we are more interested in the magnitude. So, we take squares of the distance from the mean.                                                                \n",
    "consider the following example:                                                                      \n",
    "5,7,9,3                                                                                     \n",
    "\n",
    "To find variance first we have to find mean.i.e. sum of all the values by total number of values.                             \n",
    "mean = (5+7+9+3)/4 = 6                                                       \n",
    "variance = (5-6)^2 + (7-6)^2 + (9-6)^2 +(3-6)^2/4 = (1+1+9+9)/4 = 5                                             \n",
    "\n",
    "3. Standard Deviation                                                                  \n",
    "In the calculation of variance, notice that the units of the variance and the unit of the observations are not the same. So, to remove this problem, we define standard deviation.                                                            \n",
    "consider the following example:                                                         \n",
    "5,7,9,3                                                                        \n",
    "\n",
    "To find variance first we have to find mean.i.e. sum of all the values by total number of values.                    \n",
    "mean = (5+7+9+3)/4 = 6                                                          \n",
    "variance = (5-6)^2 + (7-6)^2 + (9-6)^2 +(3-6)^2/4 = (1+1+9+9)/4 = 5                                             \n",
    "standard deviation is square root of variance.so standard deviation = 2.23606.                                            \n",
    "\n",
    "\n"
   ]
  },
  {
   "cell_type": "markdown",
   "id": "444fc611-3635-4766-83cb-82691733826b",
   "metadata": {},
   "source": [
    "Q6. What is a Venn diagram?\n",
    "=>A Venn diagram uses overlapping circles or other shapes to illustrate the logical relationships between two or more sets of items. Often, they serve to graphically organize things, highlighting how the items are similar and different.\n",
    "\n",
    "Venn diagrams, also called Set diagrams or Logic diagrams, are widely used in mathematics, statistics, logic, teaching, linguistics, computer science and business.\n",
    "These may be simple diagrams involving two or three sets of a few elements, or they may become quite sophisticated, including 3D presentations, as they progress to six or seven sets and beyond. They are used to think through and depict how items relate to each within a particular “universe” or segment. Venn diagrams allow users to visualize data in clear, powerful ways, and therefore are commonly used in presentations and reports. They are closely related to Euler diagrams, which differ by omitting sets if no items exist in them. Venn diagrams show relationships even if a set is empty."
   ]
  },
  {
   "cell_type": "markdown",
   "id": "3ed1f859-407b-45fb-9d2c-5fb58f87d729",
   "metadata": {},
   "source": [
    "Q7. For the two given sets A = (2,3,4,5,6,7) & B = (0,2,6,8,10). Find:\n",
    "(i)A intersection B\n",
    "(ii) A ⋃ B"
   ]
  },
  {
   "cell_type": "code",
   "execution_count": 1,
   "id": "27075d8c-3b1c-4341-9e2c-60fed7c8cd79",
   "metadata": {},
   "outputs": [],
   "source": [
    "A = {2,3,4,5,6,7}"
   ]
  },
  {
   "cell_type": "code",
   "execution_count": 2,
   "id": "8e9f5446-5017-4211-8d27-79e510ac23cd",
   "metadata": {},
   "outputs": [],
   "source": [
    "B = {0,2,6,8,10}"
   ]
  },
  {
   "cell_type": "code",
   "execution_count": 4,
   "id": "c72215bc-7915-4bf1-8630-3245d7aee963",
   "metadata": {},
   "outputs": [
    {
     "name": "stdout",
     "output_type": "stream",
     "text": [
      "Intersection of given two sets is  {2, 6}\n"
     ]
    }
   ],
   "source": [
    "i = A.intersection(B)\n",
    "print(\"Intersection of given two sets is \",i)"
   ]
  },
  {
   "cell_type": "code",
   "execution_count": 5,
   "id": "3391bdbe-b8e2-42fa-b96b-eb02a103dd52",
   "metadata": {},
   "outputs": [
    {
     "name": "stdout",
     "output_type": "stream",
     "text": [
      "Union of given two sets is  {0, 2, 3, 4, 5, 6, 7, 8, 10}\n"
     ]
    }
   ],
   "source": [
    "u = A.union(B)\n",
    "print(\"Union of given two sets is \",u)"
   ]
  },
  {
   "cell_type": "markdown",
   "id": "e9b05228-8d2b-4afc-b98d-077c34925cc1",
   "metadata": {},
   "source": [
    "Q8. What do you understand about skewness in data?                                        \n",
    "=> Skewness                                           \n",
    "\n",
    "Skewness is a measure of asymmetry or distortion of symmetric distribution. It measures the deviation of the given distribution of a random variable from a symmetric distribution, such as normal distribution. A normal distribution is without any skewness, as it is symmetrical on both sides. Hence, a curve is regarded as skewed if it is shifted towards the right or the left.                                                  \n",
    "\n",
    "1. Positive Skewness                                                                             \n",
    "If the given distribution is shifted to the left and with its tail on the right side, it is a positively skewed distribution. It is also called the right-skewed distribution. A tail is referred to as the tapering of the curve differently from the data points on the other side.                                                                         \n",
    "\n",
    "As the name suggests, a positively skewed distribution assumes a skewness value of more than zero. Since the skewness of the given distribution is on the right, the mean value is greater than the median and moves towards the right, and the mode occurs at the highest frequency of the distribution.                                                                     \n",
    "\n",
    " \n",
    "\n",
    "2. Negative Skewness                                                                          \n",
    "If the given distribution is shifted to the right and with its tail on the left side, it is a negatively skewed distribution. It is also called a left-skewed distribution. The skewness value of any distribution showing a negative skew is always less than zero. The skewness of the given distribution is on the left; hence, the mean value is less than the median and moves towards the left, and the mode occurs at the highest frequency of the distribution.\n",
    "\n",
    " "
   ]
  },
  {
   "cell_type": "markdown",
   "id": "fc6d735a-a500-4989-ad98-fd4f16810095",
   "metadata": {},
   "source": [
    "Q9. If a data is right skewed then what will be the position of median with respect to mean?                    \n",
    "=> If data is right skewed then median lies left to median."
   ]
  },
  {
   "cell_type": "markdown",
   "id": "886d2e5c-d61e-4ec8-813c-6013856c58fe",
   "metadata": {},
   "source": [
    "Q10. Explain the difference between covariance and correlation. How are these measures used in\n",
    "statistical analysis?"
   ]
  },
  {
   "cell_type": "markdown",
   "id": "9e7930d4-3f96-4658-8413-a859078785db",
   "metadata": {},
   "source": [
    "Covariance and correlation are both measures used to quantify the relationship between variables in statistical analysis.     \n",
    "\n",
    "Covariance:                                                      \n",
    "\n",
    "1. Covariance measures the extent to which two variables vary together. It indicates the direction (positive or negative) and the magnitude of the linear relationship between two variables.                                                    \n",
    "2. Covariance can take any value, positive or negative, depending on the nature of the relationship between variables.     \n",
    "3. The magnitude of covariance is not standardized, making it difficult to compare across different datasets or variables.    \n",
    "4. Covariance is affected by the units of measurement of the variables.                                              \n",
    "\n",
    "Correlation:                                                            \n",
    "\n",
    "1. Correlation measures the strength and direction of the linear relationship between two variables. It is a standardized version of covariance.                                                               \n",
    "2. Correlation coefficients range from -1 to 1. A value of -1 indicates a perfect negative linear relationship, 0 indicates no linear relationship, and 1 indicates a perfect positive linear relationship.                                \n",
    "3. Correlation is unitless, making it easier to compare across different datasets or variables.                      \n",
    "4. Correlation is a more useful measure when comparing variables with different scales or units.                           \n",
    "5. Correlation is a more popular and widely used measure compared to covariance due to its standardized nature.                \n",
    "In statistical analysis:                                                                     \n",
    "\n",
    "1. Covariance is used to understand the direction and magnitude of the relationship between two variables. Positive covariance indicates a direct relationship (as one variable increases, the other tends to increase), negative covariance indicates an inverse relationship (as one variable increases, the other tends to decrease), and zero covariance indicates no linear relationship.                                                                                                 \n",
    "2. Correlation is used to assess the strength and direction of the linear relationship between two variables. It is especially valuable when comparing variables measured on different scales or units. Correlation helps in determining the degree of association between variables, allowing for a more standardized and interpretable measure of relationship.                 \n",
    "Both covariance and correlation are essential tools for analyzing the relationship between variables. They provide insights into how variables move together and can be used to identify patterns, dependencies, and associations in the data."
   ]
  },
  {
   "cell_type": "markdown",
   "id": "1aadb0aa-6f43-406a-b604-506313f35b8a",
   "metadata": {},
   "source": [
    "Q11. What is the formula for calculating the sample mean? Provide an example calculation for a\n",
    "dataset.                                                                                                     \n",
    "=> The formula for calculating sample mean is :                           \n",
    "Sample Mean = (Sum of terms) ÷ (Number of Terms) =∑xi/n                                                               \n",
    " =(x1 +x2 +x3 +.........+xn)/n                                                               \n",
    "Where,                            \n",
    "\n",
    "∑xi= sum of terms                  \n",
    "n = number of terms                      \n",
    "Consider the following data:                               \n",
    "23,12,53,36,67                                     \n",
    "sample mean = 23+12+53+36+67/5 = 38.2                                           "
   ]
  },
  {
   "cell_type": "markdown",
   "id": "17676d9b-1377-473a-80e8-b8d1eb0e18f8",
   "metadata": {},
   "source": [
    "Q12. For a normal distribution data what is the relationship between its measure of central tendency?"
   ]
  },
  {
   "cell_type": "markdown",
   "id": "e862e11f-b38f-4243-bfce-e5a237d390c0",
   "metadata": {},
   "source": [
    "For normally distributed data, all three measures of central tendency will give you the same answer so they can all be used."
   ]
  },
  {
   "cell_type": "markdown",
   "id": "a0b30c7e-bdd5-4c21-a3dd-2418eba01d46",
   "metadata": {},
   "source": [
    "Q13. How is covariance different from correlation?"
   ]
  },
  {
   "cell_type": "markdown",
   "id": "45147106-7754-4ce3-aca7-e7997a784fbe",
   "metadata": {},
   "source": [
    "covariance illustrates the degree to which two variables vary with respect to each other, while correlation determines the strength and direction of this relationship. Covariance and correlation are interlinked with each other. In simple terms, correlation refers to the scaled version of covariance. This means that correlation is a special case of covariance which can be achieved when the data is in standardized form.                                           \n",
    "\n",
    "The key differences between covariance and correlation can be summarized as follows:                           \n",
    "\n",
    "What do they measure? Covariance measures whether a variation in one variable results in a variation in another variable; for example, looking at whether an increase in one variable results in an increase, decrease, or no change in the other variable. Correlation measures the direction as well as the strength of the relationship between two variables (i.e. how strongly these two variables are related to each other).                                                             \n",
    "Relationship constraints: Covariance deals with the linear relationship of only two variables in the dataset, whereas correlation can involve two or multiple variables or data sets and their linear relationships.                             \n",
    "Value range: Although both correlation coefficient and covariance are measures of linear association, correlation coefficients are standardized, therefore displaying an absolute value within a definite range from -1 to 1. On the other hand, covariance values are not standardized and use an indefinite range from -∞ to +∞ , which makes the interpretation of covariance a bit tricky.                                                                             \n",
    "Measurement units: Correlation is dimensionless, i.e. it is a unit-free measure of the relationship between variables. In contrast,  covariance is in units, which is formed by multiplying the unit of one variable by the unit of another variable.\n",
    "Change in scale: Covariance is affected by the change in scale, i.e. if all the values of one variable are multiplied by a constant and all the values of another variable are multiplied by a similar or different constant, then the covariance is changed. Conversely, correlation is not affected by the change in scale.                        \n",
    " "
   ]
  },
  {
   "cell_type": "markdown",
   "id": "ecbc41cf-c158-41e2-9030-2a77f2f68bd6",
   "metadata": {},
   "source": [
    "Q14. How do outliers affect measures of central tendency and dispersion? Provide an example."
   ]
  },
  {
   "cell_type": "markdown",
   "id": "2afb7a88-63f9-4b37-b456-5d25fa169407",
   "metadata": {},
   "source": [
    "Outliers can have a significant impact on measures of central tendency and dispersion in a dataset. Here's how outliers affect these measures:                                            \n",
    "\n",
    "Measures of Central Tendency:                                                      \n",
    "\n",
    "1. Mean: Outliers can significantly affect the mean. Since the mean is calculated by summing all the values and dividing by the total count, outliers with extreme values can pull the mean towards them. This can result in a skewed estimation of the central value if the outliers are present.                                          \n",
    "\n",
    "2. Median: The median is generally more robust to outliers compared to the mean. Outliers have less influence on the median because it represents the middle value when the data is sorted. However, if an outlier is extreme enough, it can still affect the median, particularly if the dataset is small.                                                            \n",
    "\n",
    "3. Mode: Outliers typically do not affect the mode since it represents the most frequent value(s) in the dataset. Outliers tend to be distinct and not recurring, so they do not impact the mode directly.                                         \n",
    "\n",
    "Measures of Dispersion:                                                                                     \n",
    "\n",
    "1. Range: Outliers can significantly impact the range, which is the difference between the maximum and minimum values in a dataset. If an outlier has an extremely high or low value, it can cause the range to increase dramatically.            \n",
    "\n",
    "2. Variance and Standard Deviation: Outliers have a substantial effect on the variance and standard deviation. Both measures rely on the squared deviations from the mean. Outliers with extreme values can increase the deviations, leading to larger variances and standard deviations.                                                   \n",
    "\n",
    "Let's consider an example to illustrate the impact of outliers:                                              \n",
    "\n",
    "Dataset: [10, 12, 15, 18, 20, 300]                                                                                             \n",
    "\n",
    "In this dataset, the value 300 is an outlier. Let's see how it affects the measures of central tendency and dispersion:      \n",
    "\n",
    "1. Mean: The presence of the outlier 300 significantly influences the mean. The mean would be pulled towards the outlier, resulting in a higher value than what represents the majority of the data.                                        \n",
    "\n",
    "2. Median: The median is less affected by the outlier. It remains close to the center of the dataset, reflecting the typical value of the majority of the data.                                                     \n",
    "\n",
    "3. Range: The outlier increases the range of the dataset, as the difference between the maximum value (300) and minimum value (10) becomes larger due to the outlier.                                                        \n",
    "\n",
    "4. Variance and Standard Deviation: The outlier affects both variance and standard deviation by increasing the dispersion. The squared deviations from the mean, which are summed in variance and used in calculating the standard deviation, are influenced by the outlier's large value.                                                             \n",
    "\n",
    "In summary, outliers can distort measures of central tendency, such as the mean, and impact measures of dispersion, such as the range, variance, and standard deviation. It is crucial to identify and handle outliers appropriately to obtain accurate and meaningful statistical summaries.                                            "
   ]
  }
 ],
 "metadata": {
  "kernelspec": {
   "display_name": "Python 3 (ipykernel)",
   "language": "python",
   "name": "python3"
  },
  "language_info": {
   "codemirror_mode": {
    "name": "ipython",
    "version": 3
   },
   "file_extension": ".py",
   "mimetype": "text/x-python",
   "name": "python",
   "nbconvert_exporter": "python",
   "pygments_lexer": "ipython3",
   "version": "3.10.8"
  }
 },
 "nbformat": 4,
 "nbformat_minor": 5
}
